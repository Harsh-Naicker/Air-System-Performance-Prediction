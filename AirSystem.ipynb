{
  "nbformat": 4,
  "nbformat_minor": 0,
  "metadata": {
    "colab": {
      "name": "AirSystem.ipynb",
      "provenance": [],
      "collapsed_sections": []
    },
    "kernelspec": {
      "name": "python3",
      "display_name": "Python 3"
    }
  },
  "cells": [
    {
      "cell_type": "code",
      "metadata": {
        "id": "guPdJivN6mSO",
        "colab_type": "code",
        "colab": {}
      },
      "source": [
        "import numpy as np\n",
        "import matplotlib.pyplot as plt\n",
        "import pandas as pd"
      ],
      "execution_count": null,
      "outputs": []
    },
    {
      "cell_type": "code",
      "metadata": {
        "id": "OJnI4_pI-ED5",
        "colab_type": "code",
        "colab": {}
      },
      "source": [
        "performance=pd.read_csv('AirSystemTesting.csv')"
      ],
      "execution_count": null,
      "outputs": []
    },
    {
      "cell_type": "code",
      "metadata": {
        "id": "ZFjhIRCN-hwb",
        "colab_type": "code",
        "colab": {
          "base_uri": "https://localhost:8080/",
          "height": 282
        },
        "outputId": "1eae3fc1-6686-4d5d-dbd9-397078c97ad7"
      },
      "source": [
        "performance.head()"
      ],
      "execution_count": null,
      "outputs": [
        {
          "output_type": "execute_result",
          "data": {
            "text/html": [
              "<div>\n",
              "<style scoped>\n",
              "    .dataframe tbody tr th:only-of-type {\n",
              "        vertical-align: middle;\n",
              "    }\n",
              "\n",
              "    .dataframe tbody tr th {\n",
              "        vertical-align: top;\n",
              "    }\n",
              "\n",
              "    .dataframe thead th {\n",
              "        text-align: right;\n",
              "    }\n",
              "</style>\n",
              "<table border=\"1\" class=\"dataframe\">\n",
              "  <thead>\n",
              "    <tr style=\"text-align: right;\">\n",
              "      <th></th>\n",
              "      <th>VGT Actuator Position Demand</th>\n",
              "      <th>VGT Actuator Actual Position</th>\n",
              "      <th>Software Part Number</th>\n",
              "      <th>ITV Throttle Valve Position Demand %</th>\n",
              "      <th>ITV Throttle Valve Position%</th>\n",
              "      <th>Intake Air Temperature C</th>\n",
              "      <th>HFM Intake Air Mass Flow(g/sec)</th>\n",
              "      <th>Engine Speed</th>\n",
              "      <th>EGR Valve Position Demand</th>\n",
              "      <th>EGR Valve Position</th>\n",
              "      <th>DPF Soot Load</th>\n",
              "      <th>DPF Inlet Temperature(T5)</th>\n",
              "      <th>DPF Diferential Pressure</th>\n",
              "      <th>DOC Inlet Temperature(T4)</th>\n",
              "      <th>Coolent Temperature C</th>\n",
              "      <th>Boost Pressure Demand (kpa)</th>\n",
              "      <th>Boost Pressure Actual</th>\n",
              "      <th>Ambient Air Temperature C</th>\n",
              "      <th>Air Mass Flow(g/sec)</th>\n",
              "      <th>Air Fuel Ratio</th>\n",
              "      <th>Accelerator Pedal Position</th>\n",
              "      <th>Suitable</th>\n",
              "    </tr>\n",
              "  </thead>\n",
              "  <tbody>\n",
              "    <tr>\n",
              "      <th>0</th>\n",
              "      <td>100.0</td>\n",
              "      <td>100.000000</td>\n",
              "      <td>IE331697</td>\n",
              "      <td>100.000000</td>\n",
              "      <td>99.96800</td>\n",
              "      <td>7950.00</td>\n",
              "      <td>0.00000</td>\n",
              "      <td>0.0</td>\n",
              "      <td>0.0</td>\n",
              "      <td>0.0</td>\n",
              "      <td>0.0</td>\n",
              "      <td>250.0</td>\n",
              "      <td>-10.65664</td>\n",
              "      <td>250.0</td>\n",
              "      <td>45.25</td>\n",
              "      <td>199.984375</td>\n",
              "      <td>96.09424</td>\n",
              "      <td>25.0</td>\n",
              "      <td>2.90650</td>\n",
              "      <td>119.808</td>\n",
              "      <td>0.0</td>\n",
              "      <td>1.0</td>\n",
              "    </tr>\n",
              "    <tr>\n",
              "      <th>1</th>\n",
              "      <td>100.0</td>\n",
              "      <td>100.000000</td>\n",
              "      <td>IE331697</td>\n",
              "      <td>100.000000</td>\n",
              "      <td>99.96800</td>\n",
              "      <td>8622.75</td>\n",
              "      <td>0.00000</td>\n",
              "      <td>0.0</td>\n",
              "      <td>0.0</td>\n",
              "      <td>0.0</td>\n",
              "      <td>0.0</td>\n",
              "      <td>250.0</td>\n",
              "      <td>-10.65664</td>\n",
              "      <td>250.0</td>\n",
              "      <td>45.25</td>\n",
              "      <td>199.984375</td>\n",
              "      <td>96.09424</td>\n",
              "      <td>25.0</td>\n",
              "      <td>2.90625</td>\n",
              "      <td>119.808</td>\n",
              "      <td>0.0</td>\n",
              "      <td>1.0</td>\n",
              "    </tr>\n",
              "    <tr>\n",
              "      <th>2</th>\n",
              "      <td>100.0</td>\n",
              "      <td>100.000000</td>\n",
              "      <td>IE331697</td>\n",
              "      <td>100.000000</td>\n",
              "      <td>99.96019</td>\n",
              "      <td>8622.75</td>\n",
              "      <td>0.00000</td>\n",
              "      <td>0.0</td>\n",
              "      <td>0.0</td>\n",
              "      <td>0.0</td>\n",
              "      <td>0.0</td>\n",
              "      <td>250.0</td>\n",
              "      <td>-10.65664</td>\n",
              "      <td>250.0</td>\n",
              "      <td>45.00</td>\n",
              "      <td>199.984375</td>\n",
              "      <td>96.09424</td>\n",
              "      <td>25.0</td>\n",
              "      <td>2.90625</td>\n",
              "      <td>119.808</td>\n",
              "      <td>0.0</td>\n",
              "      <td>1.0</td>\n",
              "    </tr>\n",
              "    <tr>\n",
              "      <th>3</th>\n",
              "      <td>100.0</td>\n",
              "      <td>100.000000</td>\n",
              "      <td>IE331697</td>\n",
              "      <td>100.000000</td>\n",
              "      <td>99.96800</td>\n",
              "      <td>8622.75</td>\n",
              "      <td>0.00000</td>\n",
              "      <td>0.0</td>\n",
              "      <td>0.0</td>\n",
              "      <td>0.0</td>\n",
              "      <td>0.0</td>\n",
              "      <td>250.0</td>\n",
              "      <td>-10.65664</td>\n",
              "      <td>250.0</td>\n",
              "      <td>44.74</td>\n",
              "      <td>199.984375</td>\n",
              "      <td>96.09424</td>\n",
              "      <td>25.0</td>\n",
              "      <td>2.90625</td>\n",
              "      <td>119.808</td>\n",
              "      <td>0.0</td>\n",
              "      <td>1.0</td>\n",
              "    </tr>\n",
              "    <tr>\n",
              "      <th>4</th>\n",
              "      <td>100.0</td>\n",
              "      <td>99.960938</td>\n",
              "      <td>IE331697</td>\n",
              "      <td>21.085938</td>\n",
              "      <td>21.14167</td>\n",
              "      <td>8172.00</td>\n",
              "      <td>13.03125</td>\n",
              "      <td>821.5</td>\n",
              "      <td>0.0</td>\n",
              "      <td>0.0</td>\n",
              "      <td>0.0</td>\n",
              "      <td>250.0</td>\n",
              "      <td>-10.65664</td>\n",
              "      <td>250.0</td>\n",
              "      <td>52.00</td>\n",
              "      <td>198.859375</td>\n",
              "      <td>NaN</td>\n",
              "      <td>NaN</td>\n",
              "      <td>NaN</td>\n",
              "      <td>NaN</td>\n",
              "      <td>NaN</td>\n",
              "      <td>0.0</td>\n",
              "    </tr>\n",
              "  </tbody>\n",
              "</table>\n",
              "</div>"
            ],
            "text/plain": [
              "   VGT Actuator Position Demand  ...  Suitable\n",
              "0                         100.0  ...       1.0\n",
              "1                         100.0  ...       1.0\n",
              "2                         100.0  ...       1.0\n",
              "3                         100.0  ...       1.0\n",
              "4                         100.0  ...       0.0\n",
              "\n",
              "[5 rows x 22 columns]"
            ]
          },
          "metadata": {
            "tags": []
          },
          "execution_count": 3
        }
      ]
    },
    {
      "cell_type": "code",
      "metadata": {
        "id": "FS1x0f5X-kKF",
        "colab_type": "code",
        "colab": {}
      },
      "source": [
        "X = performance.iloc[:, :-1].values\n",
        "y=performance.iloc[:,21].values"
      ],
      "execution_count": null,
      "outputs": []
    },
    {
      "cell_type": "code",
      "metadata": {
        "id": "34EsO7jm-_q9",
        "colab_type": "code",
        "colab": {}
      },
      "source": [
        "from sklearn.model_selection import train_test_split\n",
        "X_train, X_test, y_train, y_test = train_test_split(X, y, test_size = 0.30)"
      ],
      "execution_count": null,
      "outputs": []
    },
    {
      "cell_type": "code",
      "metadata": {
        "id": "LWO_9Wx2_HyQ",
        "colab_type": "code",
        "colab": {}
      },
      "source": [
        "from sklearn.ensemble import RandomForestClassifier\n",
        "classifier = RandomForestClassifier(n_estimators = 7)\n",
        "classifier.fit(X_train, y_train)"
      ],
      "execution_count": null,
      "outputs": []
    },
    {
      "cell_type": "code",
      "metadata": {
        "id": "_vze9PLQ_MgO",
        "colab_type": "code",
        "colab": {}
      },
      "source": [
        "y_pred = classifier.predict(X_test)\n",
        "print(y_pred)"
      ],
      "execution_count": null,
      "outputs": []
    },
    {
      "cell_type": "code",
      "metadata": {
        "id": "Am9WNyni_NrA",
        "colab_type": "code",
        "colab": {}
      },
      "source": [
        "from sklearn.metrics import classification_report, confusion_matrix, accuracy_score\n",
        "result = confusion_matrix(y_test, y_pred)\n",
        "print(\"Confusion Matrix:\")\n",
        "print(result)\n",
        "result1 = classification_report(y_test, y_pred)\n",
        "print(\"Classification Report:\",)\n",
        "print (result1)\n",
        "result2 = accuracy_score(y_test,y_pred)\n",
        "print(\"Accuracy:\",result2)"
      ],
      "execution_count": null,
      "outputs": []
    }
  ]
}